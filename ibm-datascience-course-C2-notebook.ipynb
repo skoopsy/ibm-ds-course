{
  "metadata": {
    "language_info": {
      "codemirror_mode": {
        "name": "python",
        "version": 3
      },
      "file_extension": ".py",
      "mimetype": "text/x-python",
      "name": "python",
      "nbconvert_exporter": "python",
      "pygments_lexer": "ipython3",
      "version": "3.8"
    },
    "kernelspec": {
      "name": "python",
      "display_name": "Python (Pyodide)",
      "language": "python"
    }
  },
  "nbformat_minor": 4,
  "nbformat": 4,
  "cells": [
    {
      "cell_type": "markdown",
      "source": "**Ex2: IBM Data Science Course - Assigment - JupyterLite Notebook**",
      "metadata": {}
    },
    {
      "cell_type": "markdown",
      "source": "Ex3: This is a Jupyter notebook for the coursera assignment",
      "metadata": {}
    },
    {
      "cell_type": "markdown",
      "source": "Ex4: List of Data Science Languages:\n - Python\n - Java\n - SQL\n - R",
      "metadata": {}
    },
    {
      "cell_type": "markdown",
      "source": "Ex5: List of Data Science Libraries:\n- scikit-learn\n- tensorflow\n- PyTourch",
      "metadata": {}
    },
    {
      "cell_type": "markdown",
      "source": "Ex6: Table of Data Science Tools:\n\n| Name        | Description |\n| ----------- | ----------- |\n| Python      | Open-source language with large online community and lots of libraries       |\n| Java        | Made by oracle      |\n| R | A powerful data science tool used mostly in academia\n| Tableau     | Data visualisation package |\n| SQL         | Non-procedural language for managing databases |\n| Git | Industry standard version control software\n",
      "metadata": {}
    },
    {
      "cell_type": "markdown",
      "source": "Ex7: This is an example of arithmetic expression in markdown:\n    \n$$\\left( \\sum_{k=1}^n a_1 b_2 + c_3 \\right)^2 $$\n",
      "metadata": {}
    },
    {
      "cell_type": "code",
      "source": "#Ex8: code cell to multiply and add numbers: \n(1 + 2*3)",
      "metadata": {
        "trusted": true
      },
      "execution_count": 3,
      "outputs": [
        {
          "execution_count": 3,
          "output_type": "execute_result",
          "data": {
            "text/plain": "7"
          },
          "metadata": {}
        }
      ]
    },
    {
      "cell_type": "code",
      "source": "#Ex9: code cell to convert minutes to hours:\ndef min2hours(min):\n    return (min/60);\nmin2hours(120)",
      "metadata": {
        "trusted": true
      },
      "execution_count": 8,
      "outputs": [
        {
          "execution_count": 8,
          "output_type": "execute_result",
          "data": {
            "text/plain": "2.0"
          },
          "metadata": {}
        }
      ]
    },
    {
      "cell_type": "markdown",
      "source": "Ex10: MD cell to list objectives:\n\n**Objectives**\n - Finish this course ASAP\n - Get job",
      "metadata": {}
    },
    {
      "cell_type": "markdown",
      "source": "Ex11: Author: David O'Connor\n",
      "metadata": {}
    },
    {
      "cell_type": "code",
      "source": "",
      "metadata": {},
      "execution_count": null,
      "outputs": []
    }
  ]
}